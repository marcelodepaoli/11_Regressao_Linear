{
  "cells": [
    {
      "cell_type": "markdown",
      "metadata": {
        "id": "view-in-github",
        "colab_type": "text"
      },
      "source": [
        "<a href=\"https://colab.research.google.com/github/marcelodepaoli/11_Regressao_Linear/blob/main/01_Regress%C3%A3o_Linear_com_Python.ipynb\" target=\"_parent\"><img src=\"https://colab.research.google.com/assets/colab-badge.svg\" alt=\"Open In Colab\"/></a>"
      ]
    },
    {
      "cell_type": "markdown",
      "metadata": {
        "id": "Vkr4Pulvbm_o"
      },
      "source": [
        "# Regressão Linear com Python\n",
        "\n",
        "Seu vizinho é um corretor de imóveis e quer ajuda para prever os preços dos imóveis para regiões dos EUA. Seria ótimo se você pudesse criar um modelo que dadas algumas características de uma casa ele retornasse uma estimativa de por quanto a casa deve vendida.\n",
        "\n",
        "Ele perguntou se você poderia ajudá-lo com suas novas habilidades de ciência de dados. Você diz que sim e decide que a Regressão Linear pode ser um bom caminho para resolver esse problema!\n",
        "\n",
        "Seu vizinho então lhe dá algumas informações sobre um monte de casas em regiões dos Estados Unidos, está tudo no conjunto de dados: USA_Housing.csv.\n",
        "\n",
        "Os dados contêm as seguintes colunas:\n",
        "\n",
        "* 'Avg. Area Income': média da renda dos moradores da cidade onde a casa está localizada\n",
        "* 'Avg. Area House Age': idade média das casas na mesma cidade\n",
        "* 'Avg. Area Number of Rooms': Número médio de cômodos das casas na mesma cidade\n",
        "* 'Avg. Area Number of Bedrooms': Número médio de quartos das casas na mesma cidade\n",
        "* 'Area Population': população da cidade em que a casa está localizada\n",
        "* 'Price': preço a que a casa foi vendida\n",
        "* 'Address': Endereço da casa"
      ]
    },
    {
      "cell_type": "markdown",
      "metadata": {
        "id": "QJIJag1Pbm_u"
      },
      "source": [
        "**Vamos começar!**\n",
        "##Confira os dados\n",
        "\n",
        "Conseguimos obter alguns dados do seu vizinho para preços de moradias como um conjunto csv, vamos preparar nosso ambiente com as bibliotecas que precisamos e depois importar os dados!\n",
        "\n",
        "### Importe as Bibliotecas"
      ]
    },
    {
      "cell_type": "code",
      "execution_count": null,
      "metadata": {
        "id": "IsAfDbGJbm_v"
      },
      "outputs": [],
      "source": [
        "import numpy as np\n",
        "import pandas as pd\n",
        "import matplotlib.pyplot as plt\n",
        "import seaborn as sns\n",
        "%matplotlib inline"
      ]
    },
    {
      "cell_type": "markdown",
      "metadata": {
        "id": "CynDDhPBbm_w"
      },
      "source": [
        "### Confira os Dados"
      ]
    },
    {
      "cell_type": "code",
      "source": [
        "# Esse trecho do código é obrigatório para quem estiver fazendo tudo pelo colab\n",
        "# Caso você esteja utilizando o jupyter pode comentar/apagar\n",
        "import os\n",
        "from google.colab import drive\n",
        "\n",
        "drive.mount('/content/drive')\n",
        "os.chdir(\"drive/My Drive/Colab Notebooks/IA/11_Regressão_Linear\")\n",
        "os.listdir()"
      ],
      "metadata": {
        "id": "uyrK36iXffQk"
      },
      "execution_count": null,
      "outputs": []
    },
    {
      "cell_type": "code",
      "source": [
        "USAhousing = pd.read_csv('USA_Housing.csv')"
      ],
      "metadata": {
        "id": "Wwnop8wxpiqp"
      },
      "execution_count": null,
      "outputs": []
    },
    {
      "cell_type": "code",
      "source": [
        "USAhousing.head()"
      ],
      "metadata": {
        "id": "OLKp9Cyonk9K"
      },
      "execution_count": null,
      "outputs": []
    },
    {
      "cell_type": "code",
      "source": [
        "USAhousing.info()"
      ],
      "metadata": {
        "id": "rtAUlpffnz9j"
      },
      "execution_count": null,
      "outputs": []
    },
    {
      "cell_type": "code",
      "source": [
        "USAhousing.describe()"
      ],
      "metadata": {
        "id": "luyil1rvqSfy"
      },
      "execution_count": null,
      "outputs": []
    },
    {
      "cell_type": "code",
      "source": [
        "USAhousing.columns"
      ],
      "metadata": {
        "id": "sj5VILvgqiZi"
      },
      "execution_count": null,
      "outputs": []
    },
    {
      "cell_type": "markdown",
      "metadata": {
        "id": "io4j76Z1bm_3"
      },
      "source": [
        "#Exploratory Data Analysis (EDA)\n",
        "\n",
        "Vamos criar alguns gráficos simples para conferir os dados!"
      ]
    },
    {
      "cell_type": "code",
      "source": [
        "sns.pairplot(USAhousing)"
      ],
      "metadata": {
        "id": "ZkHQeSPyrC3_"
      },
      "execution_count": null,
      "outputs": []
    },
    {
      "cell_type": "code",
      "source": [
        "sns.displot(USAhousing['Price'],kde=True)"
      ],
      "metadata": {
        "id": "WvA9ZHF1rwiK"
      },
      "execution_count": null,
      "outputs": []
    },
    {
      "cell_type": "markdown",
      "metadata": {
        "id": "RM_izY--bm_5"
      },
      "source": [
        "##Treinando um modelo de regressão linear\n",
        "\n",
        "Vamos agora começar a treinar o modelo de regressão! Precisaremos primeiro dividir nossos dados em um array X que contém os recursos para treinar e um array y com a variável de destino, neste caso a coluna Price. Iremos descartar a coluna Endereço porque ela tem apenas informações de texto que o modelo de regressão linear não pode usar.\n",
        "\n",
        "###Arrays X e y"
      ]
    },
    {
      "cell_type": "code",
      "execution_count": null,
      "metadata": {
        "id": "7JOd3DRRbm_5"
      },
      "outputs": [],
      "source": [
        "X = USAhousing[['Avg. Area Income', 'Avg. Area House Age', 'Avg. Area Number of Rooms',\n",
        "       'Avg. Area Number of Bedrooms', 'Area Population']]\n",
        "\n",
        "y = USAhousing['Price']"
      ]
    },
    {
      "cell_type": "markdown",
      "metadata": {
        "id": "o4XY31k7bm_5"
      },
      "source": [
        "##Train Test Split\n",
        "\n",
        "Agora vamos dividir os dados em um conjunto de treinamento e um conjunto de teste. Vamos treinar o modelo no conjunto de treinamento e, em seguida, usar o conjunto de teste para avaliar o modelo."
      ]
    },
    {
      "cell_type": "code",
      "execution_count": null,
      "metadata": {
        "collapsed": true,
        "id": "RBe2ZmNpbm_6"
      },
      "outputs": [],
      "source": [
        "from sklearn.model_selection import train_test_split"
      ]
    },
    {
      "cell_type": "code",
      "source": [
        "X_train, X_test, y_train, y_test = train_test_split(X, y, test_size=0.4, random_state=101)"
      ],
      "metadata": {
        "id": "C8y1Fw_gtMG7"
      },
      "execution_count": null,
      "outputs": []
    },
    {
      "cell_type": "markdown",
      "metadata": {
        "id": "Dn1-kkOlbm_7"
      },
      "source": [
        "##Criando e Treinando o modelo"
      ]
    },
    {
      "cell_type": "code",
      "execution_count": null,
      "metadata": {
        "id": "e9ELIOggbm_8"
      },
      "outputs": [],
      "source": [
        "from sklearn.linear_model import LinearRegression"
      ]
    },
    {
      "cell_type": "code",
      "source": [
        "lm = LinearRegression()\n",
        "\n",
        "lm.fit(X_train,y_train)"
      ],
      "metadata": {
        "id": "SF3qlfKYut4a"
      },
      "execution_count": null,
      "outputs": []
    },
    {
      "cell_type": "markdown",
      "metadata": {
        "id": "WU5cThqIbm_8"
      },
      "source": [
        "##Avaliação do Modelo\n",
        "\n",
        "Vamos avaliar o modelo verificando seus coeficientes e como podemos interpretá-los."
      ]
    },
    {
      "cell_type": "code",
      "source": [
        "print(lm.intercept_)"
      ],
      "metadata": {
        "id": "PeDamieQu7FY"
      },
      "execution_count": null,
      "outputs": []
    },
    {
      "cell_type": "code",
      "source": [
        "coeff_df = pd.DataFrame(lm.coef_,X.columns,columns=['Coefficient'])\n",
        "coeff_df"
      ],
      "metadata": {
        "id": "XEq85kPsvze6"
      },
      "execution_count": null,
      "outputs": []
    },
    {
      "cell_type": "markdown",
      "metadata": {
        "id": "bbgWIZmTbm_-"
      },
      "source": [
        "Interpretando os coeficientes:\n",
        "\n",
        "- Mantendo todos os outros parâmetros fixos, um aumento de 1 unidade na **Avg. Area Income** está associado a um **aumento de \\$21.52**.\n",
        "- Mantendo todos os outros parâmetros fixos, um aumento de 1 unidade na **Avg. Area House Age** está associado a um **aumento de \\$164883.28**.\n",
        "- Mantendo todos os outros parâmetros fixos, um aumento de 1 unidade na **Avg. Area Number of Rooms** está associado a um **aumento de \\$122368.67**.\n",
        "- Mantendo todos os outros parâmetros fixos, um aumento de 1 unidade na **Avg. Area Number of Bedrooms** está associado a um **aumento de \\$2233.80**.\n",
        "- Mantendo todos os outros parâmetros fixos, um aumento de 1 unidade na **Area Population** está associado a um **aumento de \\$15.15**.\n",
        "\n",
        "Isso faz sentido? Provavelmente não porque estes dados são inventados. Se você deseja que dados reais repitam esse tipo de análise, confira o [boston dataset](http://scikit-learn.org/stable/modules/generated/sklearn.datasets.load_boston.html):\n",
        "\n"
      ]
    },
    {
      "cell_type": "markdown",
      "metadata": {
        "id": "FvN_pCOIbm__"
      },
      "source": [
        "    from sklearn.datasets import load_boston\n",
        "    boston = load_boston()\n",
        "    print(boston.DESCR)\n",
        "    boston_df = boston.data"
      ]
    },
    {
      "cell_type": "markdown",
      "metadata": {
        "id": "LjzCMF3Ubm__"
      },
      "source": [
        "##Previsões do nosso modelo\n",
        "\n",
        "Vamos pegar as previsões do nosso conjunto de testes e ver o quão bem ele se saiu!"
      ]
    },
    {
      "cell_type": "code",
      "execution_count": null,
      "metadata": {
        "id": "VLG4C_ZabnAA"
      },
      "outputs": [],
      "source": [
        "predictions = lm.predict(X_test)\n",
        "\n",
        "plt.scatter(y_test,predictions)"
      ]
    },
    {
      "cell_type": "markdown",
      "metadata": {
        "id": "xYTcZqN_bnAA"
      },
      "source": [
        "**Histograma Residual**"
      ]
    },
    {
      "cell_type": "code",
      "execution_count": null,
      "metadata": {
        "id": "ZtnFKnrfbnAB"
      },
      "outputs": [],
      "source": [
        "sns.displot((y_test-predictions),bins=50,kde=True)"
      ]
    },
    {
      "cell_type": "markdown",
      "metadata": {
        "id": "UWF3VcwXbnAB"
      },
      "source": [
        "##Métricas de Avaliação de Regressão\n",
        "\n",
        "\n",
        "Aqui estão três métricas de avaliação comuns para problemas de regressão:\n",
        "\n",
        "**Mean Absolute Error** (MAE) é a média do valor absoluto dos erros:\n",
        "\n",
        "$$\\frac 1n\\sum_{i=1}^n|y_i-\\hat{y}_i|$$\n",
        "\n",
        "**Mean Squared Error** (MSE) é a média dos erros ao quadrado:\n",
        "\n",
        "$$\\frac 1n\\sum_{i=1}^n(y_i-\\hat{y}_i)^2$$\n",
        "\n",
        "**Root Mean Squared Error** (RMSE) é a raiz quadrada da média dos erros ao quadrado:\n",
        "\n",
        "$$\\sqrt{\\frac 1n\\sum_{i=1}^n(y_i-\\hat{y}_i)^2}$$\n",
        "\n",
        "Comparando essas métricas:\n",
        "\n",
        "- **MAE** é o mais fácil de entender, porque é o erro médio.\n",
        "- **MSE** é mais popular que o MAE, porque o MSE \"pune\" erros maiores, o que tende a ser útil no mundo real.\n",
        "- **RMSE** é ainda mais popular que o MSE, porque o RMSE é interpretável nas unidades de \"y\".\n",
        "\n",
        "Todas essas são **funções de perda** (loss functions), porque queremos minimizá-las."
      ]
    },
    {
      "cell_type": "code",
      "source": [
        "from sklearn import metrics"
      ],
      "metadata": {
        "id": "fioqxUZ2z8FK"
      },
      "execution_count": null,
      "outputs": []
    },
    {
      "cell_type": "code",
      "execution_count": null,
      "metadata": {
        "collapsed": true,
        "id": "zV_z2xC-bnAB"
      },
      "outputs": [],
      "source": [
        "print('MAE: ', metrics.mean_absolute_error(y_test, predictions))\n",
        "print('MSE: ', metrics.mean_squared_error(y_test, predictions))\n",
        "print('RMSE: ', np.sqrt(metrics.mean_squared_error(y_test, predictions)))"
      ]
    },
    {
      "cell_type": "markdown",
      "metadata": {
        "id": "Smdz1bnRbnAB"
      },
      "source": [
        "Parabéns por ajudar seu vizinho! Vá em frente e explore o Boston Dataset mencionado anteriormente se esse conjunto de dados específico for interessante para você!"
      ]
    }
  ],
  "metadata": {
    "kernelspec": {
      "display_name": "Python 3",
      "language": "python",
      "name": "python3"
    },
    "language_info": {
      "codemirror_mode": {
        "name": "ipython",
        "version": 3
      },
      "file_extension": ".py",
      "mimetype": "text/x-python",
      "name": "python",
      "nbconvert_exporter": "python",
      "pygments_lexer": "ipython3",
      "version": "3.5.1"
    },
    "colab": {
      "provenance": [],
      "include_colab_link": true
    }
  },
  "nbformat": 4,
  "nbformat_minor": 0
}