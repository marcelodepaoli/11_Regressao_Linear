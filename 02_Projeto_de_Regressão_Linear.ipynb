{
  "cells": [
    {
      "cell_type": "markdown",
      "metadata": {
        "id": "view-in-github",
        "colab_type": "text"
      },
      "source": [
        "<a href=\"https://colab.research.google.com/github/marcelodepaoli/11_Regressao_Linear/blob/main/02_Projeto_de_Regress%C3%A3o_Linear.ipynb\" target=\"_parent\"><img src=\"https://colab.research.google.com/assets/colab-badge.svg\" alt=\"Open In Colab\"/></a>"
      ]
    },
    {
      "cell_type": "markdown",
      "metadata": {
        "id": "QWhV91imLXQ0"
      },
      "source": [
        "#Projeto de Regressão Linear\n",
        "\n",
        "Parabéns! Você acabou de conseguir um contrato de trabalho com uma empresa de comércio eletrônico com sede em Nova York que vende roupas on-line, mas eles também têm sessões de aconselhamento sobre roupas e estilo na loja. Os clientes entram na loja, têm sessões/reuniões com um personal stylist, depois podem ir para casa e encomendar as roupas que desejam em um aplicativo móvel ou site.\n",
        "\n",
        "A empresa está tentando decidir se deve concentrar seus esforços na experiência do aplicativo móvel ou no site. Eles contrataram você para ajudá-los a descobrir! Vamos começar!\n",
        "\n",
        "Basta seguir as etapas abaixo para analisar os dados dos clientes (os dados são falsos, não são números de cartão de crédito ou e-mails reais)."
      ]
    },
    {
      "cell_type": "markdown",
      "metadata": {
        "id": "7n1oeCJ1LXQ8"
      },
      "source": [
        "##Imports\n",
        "**Importe pandas, numpy, matplotlib e seaborn. Em seguida, defina %matplotlib inline (Você importará o sklearn conforme necessário.)**"
      ]
    },
    {
      "cell_type": "code",
      "execution_count": null,
      "metadata": {
        "collapsed": true,
        "id": "Vpv4GOIZLXQ9"
      },
      "outputs": [],
      "source": []
    },
    {
      "cell_type": "markdown",
      "metadata": {
        "id": "g6wGmk9fLXRA"
      },
      "source": [
        "##Obtenha os Dados\n",
        "\n",
        "Trabalharemos com o arquivo csv de clientes de comércio eletrônico da empresa. o Arquivo tem informações do cliente como: e-mail, endereço e sua cor de avatar. Em seguida, também possui colunas de valor numérico:\n",
        "\n",
        "* Avg. Session Length: Tempo médio das sessões de aconselhamento de estilo na loja\n",
        "* Time on App: Tempo médio gasto no aplicativo em minutos\n",
        "* Time on Website: Tempo médio gasto no site em minutos\n",
        "* Length of Membership: Há quantos anos o cliente é membro \n",
        "\n",
        "**Leia o arquivo Ecommerce Customers csv como um DataFrame chamadp customers.**"
      ]
    },
    {
      "cell_type": "code",
      "source": [
        "# Esse trecho do código é obrigatório para quem estiver fazendo tudo pelo colab\n",
        "# Caso você esteja utilizando o jupyter pode comentar/apagar\n",
        "import os\n",
        "from google.colab import drive\n",
        "\n",
        "drive.mount('/content/drive')\n",
        "os.chdir(\"drive/My Drive/Colab Notebooks/11_Regressão_Linear\")\n",
        "os.listdir()"
      ],
      "metadata": {
        "colab": {
          "base_uri": "https://localhost:8080/"
        },
        "id": "neihgY9BPTY0",
        "outputId": "3ec105b8-c6a2-4c92-c348-0d8e029a5fa1"
      },
      "execution_count": null,
      "outputs": [
        {
          "output_type": "stream",
          "name": "stdout",
          "text": [
            "Mounted at /content/drive\n"
          ]
        },
        {
          "output_type": "execute_result",
          "data": {
            "text/plain": [
              "['USA_Housing.csv',\n",
              " 'Ecommerce Customers',\n",
              " '01 - Regressão Linear com Python.ipynb',\n",
              " '03 - Projeto de Regressão Linear - SOLUÇÃO.ipynb']"
            ]
          },
          "metadata": {},
          "execution_count": 2
        }
      ]
    },
    {
      "cell_type": "code",
      "execution_count": null,
      "metadata": {
        "collapsed": true,
        "id": "g-4vyyFnLXRB"
      },
      "outputs": [],
      "source": []
    },
    {
      "cell_type": "markdown",
      "metadata": {
        "id": "iSUiq4pZLXRC"
      },
      "source": [
        "**Verifique o head() dos clientes e confira seus métodos info() e describe().**"
      ]
    },
    {
      "cell_type": "code",
      "execution_count": null,
      "metadata": {
        "id": "DmA8t2xYLXRC"
      },
      "outputs": [],
      "source": []
    },
    {
      "cell_type": "markdown",
      "metadata": {
        "id": "Og257WXgLXRI"
      },
      "source": [
        "## Exploratory Data Analysis\n",
        "\n",
        "**Vamos explorar os dados!**\n",
        "\n",
        "Para o resto do exercício, usaremos apenas os dados numéricos do arquivo csv.\n",
        "___\n",
        "**Utilize o seaborn para criar um joinplot para comparar as colunas Tempo no site e Valor anual gasto. A correlação faz sentido?**"
      ]
    },
    {
      "cell_type": "code",
      "execution_count": null,
      "metadata": {
        "id": "fezqiO3rLXRJ"
      },
      "outputs": [],
      "source": [
        "#sns.set_palette(\"GnBu_d\")\n",
        "#sns.set_style('whitegrid')\n",
        "#sns.jointplot(x='Time on Website',y='Yearly Amount Spent',data=customers)"
      ]
    },
    {
      "cell_type": "markdown",
      "metadata": {
        "id": "OWRhKfetLXRL"
      },
      "source": [
        "**Faça o mesmo, mas com a coluna Time on App.**"
      ]
    },
    {
      "cell_type": "code",
      "execution_count": null,
      "metadata": {
        "id": "GGcd7vFNLXRL"
      },
      "outputs": [],
      "source": [
        "#sns.jointplot(x='Time on App',y='Yearly Amount Spent',data=customers)"
      ]
    },
    {
      "cell_type": "markdown",
      "metadata": {
        "id": "NBsfwoGVLXRM"
      },
      "source": [
        "**Use jointplot para criar um gráfico hexadecimal 2D comparando o tempo no aplicativo e o comprimento da associação.**"
      ]
    },
    {
      "cell_type": "code",
      "execution_count": null,
      "metadata": {
        "id": "Db9w1f_RLXRM"
      },
      "outputs": [],
      "source": [
        "#sns.jointplot(x='Time on App',y='Length of Membership',kind='hex',data=customers)"
      ]
    },
    {
      "cell_type": "markdown",
      "metadata": {
        "id": "yDJmJSeQLXRN"
      },
      "source": [
        "**Vamos explorar esses tipos de relacionamentos em todo o conjunto de dados. Usando [pairplot](https://stanford.edu/~mwaskom/software/seaborn/tutorial/axis_grids.html#plotting-pairwise-relationships-with-pairgrid-and-pairplot) para recriar o enredo abaixo. (Não se preocupe com as cores)**"
      ]
    },
    {
      "cell_type": "code",
      "execution_count": null,
      "metadata": {
        "id": "Eb8WW7chLXRO"
      },
      "outputs": [],
      "source": [
        "#sns.pairplot(customers)"
      ]
    },
    {
      "cell_type": "markdown",
      "metadata": {
        "id": "RpwUVT8VLXRP"
      },
      "source": [
        "**Com base neste gráfico, qual parece ser o recurso mais correlacionado com o valor gasto anual?**"
      ]
    },
    {
      "cell_type": "code",
      "execution_count": null,
      "metadata": {
        "collapsed": true,
        "id": "peCk3pNdLXRP"
      },
      "outputs": [],
      "source": []
    },
    {
      "cell_type": "markdown",
      "metadata": {
        "id": "DMSa02V8LXRQ"
      },
      "source": [
        "**Crie um gráfico de modelo linear (usando o lmplot da seaborn) do Yearly Amount Spent vs. Length of Membership.**"
      ]
    },
    {
      "cell_type": "code",
      "execution_count": null,
      "metadata": {
        "id": "_ge-bHvhLXRR"
      },
      "outputs": [],
      "source": [
        "#sns.lmplot(x='Length of Membership',y='Yearly Amount Spent',data=customers)"
      ]
    },
    {
      "cell_type": "markdown",
      "metadata": {
        "id": "dgm4HOIdLXRR"
      },
      "source": [
        "##Dados de Treinamento e Teste\n",
        "\n",
        "Agora que exploramos um pouco os dados, vamos em frente e dividir os dados em conjuntos de treinamento e teste.\n",
        "\n",
        "**Defina uma variável X igual às características numéricas dos clientes e uma variável y igual à coluna \"Yearly Amount Spent\".**"
      ]
    },
    {
      "cell_type": "code",
      "execution_count": null,
      "metadata": {
        "collapsed": true,
        "id": "-DJXwkbxLXRS"
      },
      "outputs": [],
      "source": []
    },
    {
      "cell_type": "markdown",
      "metadata": {
        "id": "iOB0cKKULXRT"
      },
      "source": [
        "**Use model_selection.train_test_split do sklearn para dividir os dados em conjuntos de treinamento e teste. Defina test_size=0.3 e random_state=101**"
      ]
    },
    {
      "cell_type": "code",
      "execution_count": null,
      "metadata": {
        "collapsed": true,
        "id": "JK_6GFQtLXRT"
      },
      "outputs": [],
      "source": []
    },
    {
      "cell_type": "markdown",
      "metadata": {
        "id": "iYfsfuSfLXRU"
      },
      "source": [
        "##Treinando o Modelo\n",
        "\n",
        "Agora é hora de treinar nosso modelo em nossos dados de treinamento!\n",
        "\n",
        "**Importar LinearRegression de sklearn.linear_model**"
      ]
    },
    {
      "cell_type": "code",
      "execution_count": null,
      "metadata": {
        "collapsed": true,
        "id": "406b_di_LXRU"
      },
      "outputs": [],
      "source": []
    },
    {
      "cell_type": "markdown",
      "metadata": {
        "id": "_qGHvsrOLXRU"
      },
      "source": [
        "**Crie uma instância do modelo LinearRegression() chamado lm.**"
      ]
    },
    {
      "cell_type": "code",
      "execution_count": null,
      "metadata": {
        "collapsed": true,
        "id": "lvHqwzN6LXRV"
      },
      "outputs": [],
      "source": []
    },
    {
      "cell_type": "markdown",
      "metadata": {
        "id": "AUjDjDhxLXRV"
      },
      "source": [
        "**Train/fit lm nos dados de treinamento.**"
      ]
    },
    {
      "cell_type": "code",
      "execution_count": null,
      "metadata": {
        "id": "b_9I_dClLXRV"
      },
      "outputs": [],
      "source": []
    },
    {
      "cell_type": "markdown",
      "metadata": {
        "id": "aG6hUyksLXRW"
      },
      "source": [
        "**Imprima os coeficientes do modelo**"
      ]
    },
    {
      "cell_type": "code",
      "execution_count": null,
      "metadata": {
        "id": "T2g6KFmTLXRW"
      },
      "outputs": [],
      "source": []
    },
    {
      "cell_type": "markdown",
      "metadata": {
        "id": "ZRrzAIVrLXRX"
      },
      "source": [
        "##Previsão de Dados de Teste\n",
        "\n",
        "Agora que ajustamos nosso modelo, vamos avaliar seu desempenho prevendo os valores de teste!\n",
        "\n",
        "**Utilize lm.predict() para prever os dados do X_test set.**"
      ]
    },
    {
      "cell_type": "code",
      "execution_count": null,
      "metadata": {
        "collapsed": true,
        "id": "hHPQlQDzLXRY"
      },
      "outputs": [],
      "source": []
    },
    {
      "cell_type": "markdown",
      "metadata": {
        "id": "jzmXtIhoLXRY"
      },
      "source": [
        "**Crie um gráfico de dispersão dos valores de teste reais versus os valores previstos.**"
      ]
    },
    {
      "cell_type": "code",
      "execution_count": null,
      "metadata": {
        "id": "VfZGZgxRLXRY"
      },
      "outputs": [],
      "source": [
        "#plt.scatter(y_test,predictions)\n",
        "#plt.xlabel('Y Test')\n",
        "#plt.ylabel('Predicted Y')"
      ]
    },
    {
      "cell_type": "markdown",
      "metadata": {
        "id": "4gC-IolBLXRZ"
      },
      "source": [
        "##Avaliando o Modelo\n",
        "\n",
        "Vamos avaliar o desempenho do nosso modelo calculando a soma dos quadrados dos resíduos e a pontuação da variância explicada (R^2).\n",
        "\n",
        "**Calcule o erro médio absoluto, o erro quadrático médio e o erro quadrático médio. Consulte os slides ou a Wikipédia para as fórmulas**"
      ]
    },
    {
      "cell_type": "code",
      "execution_count": null,
      "metadata": {
        "id": "HZTEBZVXLXRZ"
      },
      "outputs": [],
      "source": []
    },
    {
      "cell_type": "markdown",
      "metadata": {
        "id": "HsIf_QgzLXRa"
      },
      "source": [
        "##Resíduos\n",
        "\n",
        "Você deve ter conseguido um modelo muito bom e com um bom ajuste. Vamos explorar rapidamente os resíduos para garantir que tudo esteja bem com nossos dados. \n",
        "\n",
        "**Plote um histograma dos resíduos e certifique-se de que parecem seguir uma distribuição normal. Use o displot seaborn (ou histplot) ou apenas plt.hist().**"
      ]
    },
    {
      "cell_type": "code",
      "execution_count": null,
      "metadata": {
        "id": "gK6wo_8kLXRa"
      },
      "outputs": [],
      "source": [
        "#sns.displot((y_test-predictions),bins=50,kde=True);"
      ]
    },
    {
      "cell_type": "markdown",
      "metadata": {
        "id": "EbaG429aLXRa"
      },
      "source": [
        "##Conclusão\n",
        "Ainda queremos descobrir a resposta para a pergunta original, focamos nosso esforço no desenvolvimento de aplicativos para dispositivos móveis ou sites? Ou talvez isso nem importe, e o tempo de associação é o que realmente importa. Vamos ver se podemos interpretar os coeficientes para ter uma ideia.\n",
        "\n",
        "**Recrie o dataframe abaixo.**"
      ]
    },
    {
      "cell_type": "code",
      "source": [],
      "metadata": {
        "id": "UYR33bcbMxjL"
      },
      "execution_count": null,
      "outputs": []
    },
    {
      "cell_type": "code",
      "execution_count": null,
      "metadata": {
        "id": "ZnS3GbiILXRb",
        "outputId": "cf50eec6-c0e8-4d95-89d0-495d9dee7077",
        "colab": {
          "base_uri": "https://localhost:8080/",
          "height": 175
        }
      },
      "outputs": [
        {
          "output_type": "execute_result",
          "data": {
            "text/plain": [
              "                      Coeffecient\n",
              "Avg. Session Length     25.981550\n",
              "Time on App             38.590159\n",
              "Time on Website          0.190405\n",
              "Length of Membership    61.279097"
            ],
            "text/html": [
              "\n",
              "  <div id=\"df-43182f2f-8192-477d-a008-098989c52722\">\n",
              "    <div class=\"colab-df-container\">\n",
              "      <div>\n",
              "<style scoped>\n",
              "    .dataframe tbody tr th:only-of-type {\n",
              "        vertical-align: middle;\n",
              "    }\n",
              "\n",
              "    .dataframe tbody tr th {\n",
              "        vertical-align: top;\n",
              "    }\n",
              "\n",
              "    .dataframe thead th {\n",
              "        text-align: right;\n",
              "    }\n",
              "</style>\n",
              "<table border=\"1\" class=\"dataframe\">\n",
              "  <thead>\n",
              "    <tr style=\"text-align: right;\">\n",
              "      <th></th>\n",
              "      <th>Coeffecient</th>\n",
              "    </tr>\n",
              "  </thead>\n",
              "  <tbody>\n",
              "    <tr>\n",
              "      <th>Avg. Session Length</th>\n",
              "      <td>25.981550</td>\n",
              "    </tr>\n",
              "    <tr>\n",
              "      <th>Time on App</th>\n",
              "      <td>38.590159</td>\n",
              "    </tr>\n",
              "    <tr>\n",
              "      <th>Time on Website</th>\n",
              "      <td>0.190405</td>\n",
              "    </tr>\n",
              "    <tr>\n",
              "      <th>Length of Membership</th>\n",
              "      <td>61.279097</td>\n",
              "    </tr>\n",
              "  </tbody>\n",
              "</table>\n",
              "</div>\n",
              "      <button class=\"colab-df-convert\" onclick=\"convertToInteractive('df-43182f2f-8192-477d-a008-098989c52722')\"\n",
              "              title=\"Convert this dataframe to an interactive table.\"\n",
              "              style=\"display:none;\">\n",
              "        \n",
              "  <svg xmlns=\"http://www.w3.org/2000/svg\" height=\"24px\"viewBox=\"0 0 24 24\"\n",
              "       width=\"24px\">\n",
              "    <path d=\"M0 0h24v24H0V0z\" fill=\"none\"/>\n",
              "    <path d=\"M18.56 5.44l.94 2.06.94-2.06 2.06-.94-2.06-.94-.94-2.06-.94 2.06-2.06.94zm-11 1L8.5 8.5l.94-2.06 2.06-.94-2.06-.94L8.5 2.5l-.94 2.06-2.06.94zm10 10l.94 2.06.94-2.06 2.06-.94-2.06-.94-.94-2.06-.94 2.06-2.06.94z\"/><path d=\"M17.41 7.96l-1.37-1.37c-.4-.4-.92-.59-1.43-.59-.52 0-1.04.2-1.43.59L10.3 9.45l-7.72 7.72c-.78.78-.78 2.05 0 2.83L4 21.41c.39.39.9.59 1.41.59.51 0 1.02-.2 1.41-.59l7.78-7.78 2.81-2.81c.8-.78.8-2.07 0-2.86zM5.41 20L4 18.59l7.72-7.72 1.47 1.35L5.41 20z\"/>\n",
              "  </svg>\n",
              "      </button>\n",
              "      \n",
              "  <style>\n",
              "    .colab-df-container {\n",
              "      display:flex;\n",
              "      flex-wrap:wrap;\n",
              "      gap: 12px;\n",
              "    }\n",
              "\n",
              "    .colab-df-convert {\n",
              "      background-color: #E8F0FE;\n",
              "      border: none;\n",
              "      border-radius: 50%;\n",
              "      cursor: pointer;\n",
              "      display: none;\n",
              "      fill: #1967D2;\n",
              "      height: 32px;\n",
              "      padding: 0 0 0 0;\n",
              "      width: 32px;\n",
              "    }\n",
              "\n",
              "    .colab-df-convert:hover {\n",
              "      background-color: #E2EBFA;\n",
              "      box-shadow: 0px 1px 2px rgba(60, 64, 67, 0.3), 0px 1px 3px 1px rgba(60, 64, 67, 0.15);\n",
              "      fill: #174EA6;\n",
              "    }\n",
              "\n",
              "    [theme=dark] .colab-df-convert {\n",
              "      background-color: #3B4455;\n",
              "      fill: #D2E3FC;\n",
              "    }\n",
              "\n",
              "    [theme=dark] .colab-df-convert:hover {\n",
              "      background-color: #434B5C;\n",
              "      box-shadow: 0px 1px 3px 1px rgba(0, 0, 0, 0.15);\n",
              "      filter: drop-shadow(0px 1px 2px rgba(0, 0, 0, 0.3));\n",
              "      fill: #FFFFFF;\n",
              "    }\n",
              "  </style>\n",
              "\n",
              "      <script>\n",
              "        const buttonEl =\n",
              "          document.querySelector('#df-43182f2f-8192-477d-a008-098989c52722 button.colab-df-convert');\n",
              "        buttonEl.style.display =\n",
              "          google.colab.kernel.accessAllowed ? 'block' : 'none';\n",
              "\n",
              "        async function convertToInteractive(key) {\n",
              "          const element = document.querySelector('#df-43182f2f-8192-477d-a008-098989c52722');\n",
              "          const dataTable =\n",
              "            await google.colab.kernel.invokeFunction('convertToInteractive',\n",
              "                                                     [key], {});\n",
              "          if (!dataTable) return;\n",
              "\n",
              "          const docLinkHtml = 'Like what you see? Visit the ' +\n",
              "            '<a target=\"_blank\" href=https://colab.research.google.com/notebooks/data_table.ipynb>data table notebook</a>'\n",
              "            + ' to learn more about interactive tables.';\n",
              "          element.innerHTML = '';\n",
              "          dataTable['output_type'] = 'display_data';\n",
              "          await google.colab.output.renderOutput(dataTable, element);\n",
              "          const docLink = document.createElement('div');\n",
              "          docLink.innerHTML = docLinkHtml;\n",
              "          element.appendChild(docLink);\n",
              "        }\n",
              "      </script>\n",
              "    </div>\n",
              "  </div>\n",
              "  "
            ]
          },
          "metadata": {},
          "execution_count": 30
        }
      ],
      "source": []
    },
    {
      "cell_type": "markdown",
      "metadata": {
        "id": "KqZHYLVNLXRb"
      },
      "source": [
        "**Como você pode interpretar esses coeficientes?**"
      ]
    },
    {
      "cell_type": "markdown",
      "metadata": {
        "id": "gH0-61O_LXRb"
      },
      "source": [
        "Interpretando os coeficientes:\n",
        "\n",
        "- Mantendo todas as outras características fixas, um aumento de 1 unidade no **Avg. Session Length** está associado a um **aumento de 25.98 no total de dólares gastos**.\n",
        "- Mantendo todas as outras características fixas, um aumento de 1 unidade no **Time on App** está associado a um **aumento de 38.59 no total de dólares gastos**.\n",
        "- Mantendo todas as outras características fixas, um aumento de 1 unidade no **Time on Website** está associado a um **aumento de 0.19 no total de dólares gastos**.\n",
        "- Mantendo todas as outras características fixas, um aumento de 1 unidade no **Length of Membership** está associado a um **aumento de 61.27 no total de dólares gastos**."
      ]
    },
    {
      "cell_type": "markdown",
      "metadata": {
        "id": "CY8gALvrLXRc"
      },
      "source": [
        "**Você acha que a empresa deveria se concentrar mais em seu aplicativo móvel ou em seu site?**"
      ]
    },
    {
      "cell_type": "markdown",
      "metadata": {
        "id": "YBhuVfQXLXRc"
      },
      "source": [
        "A resposta é complicada. Há duas maneiras de pensar sobre isso: desenvolver o site para acompanhar o desempenho do aplicativo móvel ou desenvolver mais o aplicativo, pois ele está funcionando melhor. \n",
        "\n",
        "Esse tipo de resposta realmente depende dos outros fatores que estão acontecendo na empresa. Seria mais prudente explorar a relação entre a duração da associação e o aplicativo ou o site antes de chegar a uma conclusão!"
      ]
    },
    {
      "cell_type": "code",
      "source": [],
      "metadata": {
        "id": "zQ4PDJ89K5PQ"
      },
      "execution_count": null,
      "outputs": []
    }
  ],
  "metadata": {
    "kernelspec": {
      "display_name": "Python 3",
      "language": "python",
      "name": "python3"
    },
    "language_info": {
      "codemirror_mode": {
        "name": "ipython",
        "version": 3
      },
      "file_extension": ".py",
      "mimetype": "text/x-python",
      "name": "python",
      "nbconvert_exporter": "python",
      "pygments_lexer": "ipython3",
      "version": "3.6.2"
    },
    "colab": {
      "provenance": [],
      "collapsed_sections": [],
      "include_colab_link": true
    }
  },
  "nbformat": 4,
  "nbformat_minor": 0
}